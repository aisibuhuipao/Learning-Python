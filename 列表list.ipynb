{
 "cells": [
  {
   "cell_type": "code",
   "execution_count": 1,
   "metadata": {},
   "outputs": [],
   "source": [
    "# 列表list 是一个任意类型的对象的位置相关的有序集合，且没有固定的大小\n",
    "# 可以通过切片和其他各种列表的方法进行调用\n",
    "# 列表属于序列的一种，支持所有对字符串的序列操作，唯一的区别就是结果往往是列表"
   ]
  },
  {
   "cell_type": "code",
   "execution_count": 6,
   "metadata": {},
   "outputs": [
    {
     "data": {
      "text/plain": [
       "3"
      ]
     },
     "execution_count": 6,
     "metadata": {},
     "output_type": "execute_result"
    }
   ],
   "source": [
    "# 例如有3个元素\n",
    "l = [123, 'spam', 1.23] # A list of three different-type objects # 3个不通类型的元素对象\n",
    "len(l) # Number of items in the list  # 列表中的项目数"
   ]
  },
  {
   "cell_type": "code",
   "execution_count": 33,
   "metadata": {},
   "outputs": [
    {
     "name": "stdout",
     "output_type": "stream",
     "text": [
      "123\n",
      "[123, 'spam', 'NI']\n",
      "[123, 'spam', 'NI', 'NI', 4, 5, 6]\n",
      "[123, 'spam', 'NI', 'NI']\n"
     ]
    }
   ],
   "source": [
    "# 可以对列表进行切片操作，例如：\n",
    "print(l[0]) # Indexing by position  # 处在位置 0 的元素\n",
    "print(l[:-1]) # Slicing a list returns a new list # 切片且返回一个新的列表\n",
    "print(l + [4,5,6]) # Concatenation makes a new list too # 添加元素到列表中，形成新的列表\n",
    "print(l) # We're not changing the original list # 上面的操作都不会改变原来的列表"
   ]
  },
  {
   "cell_type": "code",
   "execution_count": 38,
   "metadata": {},
   "outputs": [
    {
     "name": "stdout",
     "output_type": "stream",
     "text": [
      "[123, 'spam', 1.23, 'NI']\n"
     ]
    }
   ],
   "source": [
    "# 类型特定操作方法\n",
    "l.append('NI') # Growing:add object at end of list # 在列表的末尾增加一个元素\n",
    "print(l)"
   ]
  },
  {
   "cell_type": "code",
   "execution_count": 30,
   "metadata": {},
   "outputs": [
    {
     "name": "stdout",
     "output_type": "stream",
     "text": [
      "[123, 'spam', 'NI']\n"
     ]
    }
   ],
   "source": [
    "l.pop(2) # Shrinking:delete an item in the middle # 删除指定位置的元素\n",
    "print(l)\n",
    "# 还有 .insert 方法 可以在任意位置插入元素\n",
    "# .remove 按照值移除元素"
   ]
  },
  {
   "cell_type": "code",
   "execution_count": 45,
   "metadata": {},
   "outputs": [
    {
     "name": "stdout",
     "output_type": "stream",
     "text": [
      "['aa', 'bb', 'cc']\n",
      "['cc', 'bb', 'aa']\n"
     ]
    }
   ],
   "source": [
    "m = ['bb', 'aa', 'cc']\n",
    "m.sort() # 排序的操作 \n",
    "print(m)\n",
    "m.reverse() # 倒序的操作\n",
    "print(m)\n",
    "# 这两种方法都直接对列表进行了改变"
   ]
  },
  {
   "cell_type": "code",
   "execution_count": 48,
   "metadata": {},
   "outputs": [
    {
     "data": {
      "text/plain": [
       "[123, 'spam', 1.23, 'NI']"
      ]
     },
     "execution_count": 48,
     "metadata": {},
     "output_type": "execute_result"
    }
   ],
   "source": [
    "# 边界检查\n",
    "# 列表没有固定大小，但是python扔不允许引用不存在的元素\n",
    "# 对超出列表末尾之外的索引与赋值都会错误\n",
    "l\n",
    "# l[99] IndexError:list index out of range # 索引错误 超出列表范围\n",
    "# l[99] = 1 IndexError:list assignment index out of range # 超出索引范围的赋值"
   ]
  },
  {
   "cell_type": "code",
   "execution_count": 49,
   "metadata": {},
   "outputs": [
    {
     "data": {
      "text/plain": [
       "[[1, 2, 3], [4, 5, 6], [7, 8, 9]]"
      ]
     },
     "execution_count": 49,
     "metadata": {},
     "output_type": "execute_result"
    }
   ],
   "source": [
    "# 嵌套：\n",
    "# python中核心数据类型的一个优秀的特性就是支持任意的嵌套\n",
    "# 例如可以让一个列表包含一个字典dictionary，并且在这个字典dict 中包含另一个列表等等\n",
    "# 这种特性的一个直接应用就是实现矩阵，或者叫python中的‘多维数组’\n",
    "# 一个嵌套列表就能完成这样基本的操作：\n",
    "M = [[1,2,3], # A 3 x 3 matrix,as nested lists # 3 x 3 的嵌套列表实现一个简单的矩阵\n",
    "    [4,5,6], # Code can span lines if bracketed\n",
    "    [7,8,9]]\n",
    "M"
   ]
  },
  {
   "cell_type": "code",
   "execution_count": 52,
   "metadata": {},
   "outputs": [
    {
     "name": "stdout",
     "output_type": "stream",
     "text": [
      "[4, 5, 6]\n",
      "6\n"
     ]
    }
   ],
   "source": [
    "# 这样的结构可以通过多种方法获取元素\n",
    "print(M[1]) # Get row 2 # 获取第二行\n",
    "print(M[1][2]) # Get row 2,then get item 3 within the row 6 \n",
    "# 获取第二行，然后获取第二行中位置 2 的 元素 6\n",
    "# NumPy系统，这个工具能以更搞笑的方式存储结构处理大型矩阵，优于我们的嵌套列表结构"
   ]
  },
  {
   "cell_type": "code",
   "execution_count": 56,
   "metadata": {},
   "outputs": [
    {
     "name": "stdout",
     "output_type": "stream",
     "text": [
      "2 5 8\n"
     ]
    }
   ],
   "source": [
    "# 列表解析：python中一个高级的操作是 称作列表解析表达式(list comprehension expression)\n",
    "# 例如 我们想要获取矩阵的 第二列 也就是 2， 5， 8. 使用列表解析可以简单的获得\n",
    "# 使用索引操作\n",
    "print(M[0][1],M[1][1],M[2][1]) # 这种方法只返回对应的值，而不是一个列表"
   ]
  },
  {
   "cell_type": "code",
   "execution_count": 59,
   "metadata": {},
   "outputs": [
    {
     "name": "stdout",
     "output_type": "stream",
     "text": [
      "[2, 5, 8]\n",
      "[[1, 2, 3], [4, 5, 6], [7, 8, 9]]\n"
     ]
    }
   ],
   "source": [
    "# 列表解析可以更简单且返回一个列表\n",
    "col2 = [row[1] for row in M] # row[1]表示 每一行中位置 1 的元素 使用 for 循环遍历 M 这个列表，将得到的元素赋值给 col2 形成一个新的列表\n",
    "print(col2) \n",
    "print(M)"
   ]
  },
  {
   "cell_type": "code",
   "execution_count": 62,
   "metadata": {},
   "outputs": [
    {
     "data": {
      "text/plain": [
       "[3, 6, 9]"
      ]
     },
     "execution_count": 62,
     "metadata": {},
     "output_type": "execute_result"
    }
   ],
   "source": [
    "# 实际应用中 列表解析 可以更复杂 例如：\n",
    "col3 = [row[1] + 1 for row in M] # Add 1 to each item in column 2 \n",
    "col3\n",
    "# 这个操作把每一次遍历到 row[1] 的元素 +1，然后赋值给 col3 形成一个新的列表"
   ]
  },
  {
   "cell_type": "code",
   "execution_count": 63,
   "metadata": {},
   "outputs": [
    {
     "data": {
      "text/plain": [
       "[2, 8]"
      ]
     },
     "execution_count": 63,
     "metadata": {},
     "output_type": "execute_result"
    }
   ],
   "source": [
    "col4 = [row[1] for row in M if row[1] % 2 == 0] # Filter out odd items\n",
    "col4 \n",
    "# 这个操作把每次遍历到的元素以 if 条件判断通过 % 求余数的表达 过滤了结果中的奇数\n",
    "# 然后赋值给 col4 形成一个新的列表"
   ]
  },
  {
   "cell_type": "code",
   "execution_count": 66,
   "metadata": {},
   "outputs": [
    {
     "data": {
      "text/plain": [
       "[1, 5, 9]"
      ]
     },
     "execution_count": 66,
     "metadata": {},
     "output_type": "execute_result"
    }
   ],
   "source": [
    "# 可以在任何可迭代遍历的对象上进行迭代，例如：\n",
    "diag = [M[i][i] for i in [0,1,2]] # Collect a diagonal from matrix\n",
    "diag\n",
    "# 从列表中提取对角线 [0,1,2] 分别是第一行 第一个元素 ，第二行第二个元素，第三行第三个元素"
   ]
  },
  {
   "cell_type": "code",
   "execution_count": 67,
   "metadata": {},
   "outputs": [
    {
     "data": {
      "text/plain": [
       "['ss', 'pp', 'aa', 'mm']"
      ]
     },
     "execution_count": 67,
     "metadata": {},
     "output_type": "execute_result"
    }
   ],
   "source": [
    "doubles = [c * 2 for c in 'spam'] # Repeat characters in a string\n",
    "doubles\n",
    "# 将每一次遍历到的元素乘以 2 如果是元素是字符串则每一个元素重复 2 次"
   ]
  },
  {
   "cell_type": "code",
   "execution_count": null,
   "metadata": {},
   "outputs": [],
   "source": []
  }
 ],
 "metadata": {
  "kernelspec": {
   "display_name": "Python 3",
   "language": "python",
   "name": "python3"
  },
  "language_info": {
   "codemirror_mode": {
    "name": "ipython",
    "version": 3
   },
   "file_extension": ".py",
   "mimetype": "text/x-python",
   "name": "python",
   "nbconvert_exporter": "python",
   "pygments_lexer": "ipython3",
   "version": "3.6.5"
  }
 },
 "nbformat": 4,
 "nbformat_minor": 2
}
