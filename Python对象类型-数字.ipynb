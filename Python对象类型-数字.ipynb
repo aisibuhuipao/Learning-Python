{
 "cells": [
  {
   "cell_type": "code",
   "execution_count": null,
   "metadata": {},
   "outputs": [],
   "source": [
    "# 1.Python程序是由 模块、语句、表达式和对象构成的\n",
    "# 1-1.程序由模块构成\n",
    "# 1-2.模块包含语句\n",
    "# 1-3.语句包含表达式\n",
    "# 1-4.表达式建立并处理对象"
   ]
  },
  {
   "cell_type": "code",
   "execution_count": 1,
   "metadata": {},
   "outputs": [],
   "source": [
    "# 2.内置对象可以完成很多简单的任务\n",
    "# 2-1.集合(列表 = list)\n",
    "# 2-1.集合(元组 = tuple)\n",
    "# 2-2.搜索表(字典 = dictionary【地科思奈瑞】)"
   ]
  },
  {
   "cell_type": "code",
   "execution_count": 2,
   "metadata": {},
   "outputs": [],
   "source": [
    "# 3.Python的核心数据类型\n",
    "# 3-1 数字 1234,3.1415,3+4j，Decimal，Fraction\n",
    "# 3-2 字符串 'spam',\"guido's\",b'a\\xolc',\"你好\"\n",
    "# 3-3 列表(list) [1,[2,'three'],4] list提供了其他对象的有序集合，可以做嵌套\n",
    "# 3-6 集合(元组 = tuple) (1,'spam',4,'U')\n",
    "# 3-4 字典(dict) {'food':'spam','taste':'yum'} tuple是通过 键 存储对象的，可以做嵌套\n",
    "# 3-5 文件(file) myfile = open('eggs','r')\n",
    "# 3-7 其他类型 类型、None(无 = 没有)、布尔型(bool)\n",
    "# 3-8 编程单元型 函数(function)、模块(Modular)、类(class)\n",
    "# 3-9 与实现相关的类型 编译的代码堆栈跟踪\n",
    "# 还不并完整。"
   ]
  },
  {
   "cell_type": "code",
   "execution_count": 3,
   "metadata": {},
   "outputs": [],
   "source": [
    "# 函数 创建 使用 def 关键字 \n",
    "# 模块 导入 使用 import 关键字\n",
    "# 类 创建  使用 class 关键字\n",
    "# lambda 暂时不清楚"
   ]
  },
  {
   "cell_type": "code",
   "execution_count": 11,
   "metadata": {},
   "outputs": [],
   "source": [
    "# 数字类型包括：整数、浮点数、复数、十进制数、带分子和分母的有理分数以及集合\n",
    "# + 代表 加法 ， - 代表 减法 ， * 代表 乘法 ， ** 代表 乘方 \n",
    "# / 代表 除法 ， // 代表 取整除 ， % 代表 除法余数 ，== 代表 等于  "
   ]
  },
  {
   "cell_type": "code",
   "execution_count": 12,
   "metadata": {},
   "outputs": [
    {
     "data": {
      "text/plain": [
       "345"
      ]
     },
     "execution_count": 12,
     "metadata": {},
     "output_type": "execute_result"
    }
   ],
   "source": [
    "123 +222 # Integer addition 整数加法"
   ]
  },
  {
   "cell_type": "code",
   "execution_count": 13,
   "metadata": {},
   "outputs": [
    {
     "data": {
      "text/plain": [
       "6.0"
      ]
     },
     "execution_count": 13,
     "metadata": {},
     "output_type": "execute_result"
    }
   ],
   "source": [
    "1.5 * 4 # Floating-point multiplication 浮点数乘法"
   ]
  },
  {
   "cell_type": "code",
   "execution_count": 14,
   "metadata": {},
   "outputs": [
    {
     "data": {
      "text/plain": [
       "1267650600228229401496703205376"
      ]
     },
     "execution_count": 14,
     "metadata": {},
     "output_type": "execute_result"
    }
   ],
   "source": [
    "2 ** 100 # 2 to the power 100 乘方"
   ]
  },
  {
   "cell_type": "code",
   "execution_count": 15,
   "metadata": {},
   "outputs": [
    {
     "data": {
      "text/plain": [
       "301030"
      ]
     },
     "execution_count": 15,
     "metadata": {},
     "output_type": "execute_result"
    }
   ],
   "source": [
    "len(str(2 ** 1000000)) # How many digits in a really BIG number?  计算 2 ** 1000000 的乘方有多少位数 \n",
    "# len 计算长度"
   ]
  },
  {
   "cell_type": "code",
   "execution_count": 17,
   "metadata": {},
   "outputs": [
    {
     "data": {
      "text/plain": [
       "6.283"
      ]
     },
     "execution_count": 17,
     "metadata": {},
     "output_type": "execute_result"
    }
   ],
   "source": [
    "3.1415 * 2 # repr: as code 对象的代码形式 repr"
   ]
  },
  {
   "cell_type": "code",
   "execution_count": 19,
   "metadata": {},
   "outputs": [
    {
     "name": "stdout",
     "output_type": "stream",
     "text": [
      "6.283\n"
     ]
    }
   ],
   "source": [
    "print(3.1415 * 2) # str: user-friendly 对象的友好形式 str"
   ]
  },
  {
   "cell_type": "code",
   "execution_count": 24,
   "metadata": {},
   "outputs": [
    {
     "name": "stdout",
     "output_type": "stream",
     "text": [
      "3.141592653589793\n"
     ]
    },
    {
     "data": {
      "text/plain": [
       "9.219544457292887"
      ]
     },
     "execution_count": 24,
     "metadata": {},
     "output_type": "execute_result"
    }
   ],
   "source": [
    "# 除了简单的表达式外，和python一起分发的还有一些常用的数学模块，比如\n",
    "import math\n",
    "print(math.pi)\n",
    "math.sqrt(85)"
   ]
  },
  {
   "cell_type": "code",
   "execution_count": 31,
   "metadata": {},
   "outputs": [
    {
     "name": "stdout",
     "output_type": "stream",
     "text": [
      "0.275070950073798\n"
     ]
    },
    {
     "data": {
      "text/plain": [
       "2"
      ]
     },
     "execution_count": 31,
     "metadata": {},
     "output_type": "execute_result"
    }
   ],
   "source": [
    "# math 模块包含更高级的数学工具，如函数，而 random 模块可以作为随机数字的生成器和随机选择器\n",
    "import random\n",
    "print(random.random())\n",
    "random.choice([1,2,3,4])"
   ]
  },
  {
   "cell_type": "code",
   "execution_count": null,
   "metadata": {},
   "outputs": [],
   "source": []
  },
  {
   "cell_type": "code",
   "execution_count": null,
   "metadata": {},
   "outputs": [],
   "source": []
  }
 ],
 "metadata": {
  "kernelspec": {
   "display_name": "Python 3",
   "language": "python",
   "name": "python3"
  },
  "language_info": {
   "codemirror_mode": {
    "name": "ipython",
    "version": 3
   },
   "file_extension": ".py",
   "mimetype": "text/x-python",
   "name": "python",
   "nbconvert_exporter": "python",
   "pygments_lexer": "ipython3",
   "version": "3.6.5"
  }
 },
 "nbformat": 4,
 "nbformat_minor": 2
}
