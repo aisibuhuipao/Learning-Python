{
 "cells": [
  {
   "cell_type": "code",
   "execution_count": 1,
   "metadata": {},
   "outputs": [],
   "source": [
    "# Python中的字典(dict)是完全不同的东西，它不是序列，而是一种映射(mapping)\n",
    "# 映射(mapping)是一个其他对象的集合，但是它们是通过 键与值 来存储的\n",
    "# 映射(mapping)并没有任何从左至右的顺序，它简单的是将 键 映射到 值\n",
    "# 字典是python中唯一的一种映射(mapping)类型，可以随需求增大或减小，像列表(list)那样"
   ]
  },
  {
   "cell_type": "code",
   "execution_count": 3,
   "metadata": {},
   "outputs": [
    {
     "data": {
      "text/plain": [
       "{'food': 'Spam', 'quantity': 4, 'color': 'pink'}"
      ]
     },
     "execution_count": 3,
     "metadata": {},
     "output_type": "execute_result"
    }
   ],
   "source": [
    "# 例如，为了表述某物的属性的时候，字典是很有用的\n",
    "# 请思考下面包含3个元素的字典（键分别为‘food’。‘qunantity’。‘color’）\n",
    "d = {'food': 'Spam', 'quantity' : 4, 'color' : 'pink'}\n",
    "d\n",
    "# 可以通过 键 对这个字典进行索引，来读取或改变 键 所关联的值\n",
    "# 字典的索引操作使用的是和序列相同的语法，但是在方括号中的元素是 键 ，而不是相对的位置"
   ]
  },
  {
   "cell_type": "code",
   "execution_count": 4,
   "metadata": {},
   "outputs": [
    {
     "data": {
      "text/plain": [
       "'Spam'"
      ]
     },
     "execution_count": 4,
     "metadata": {},
     "output_type": "execute_result"
    }
   ],
   "source": [
    "d['food'] # Fetch value of key 'food' # 索引 'food' 的值"
   ]
  },
  {
   "cell_type": "code",
   "execution_count": 6,
   "metadata": {},
   "outputs": [
    {
     "data": {
      "text/plain": [
       "{'food': 'Spam', 'quantity': 6, 'color': 'pink'}"
      ]
     },
     "execution_count": 6,
     "metadata": {},
     "output_type": "execute_result"
    }
   ],
   "source": [
    "d['quantity'] += 1  # Add 1 to 'quantity' valye # 索引'quantity' 的 值 并加 1\n",
    "d"
   ]
  },
  {
   "cell_type": "code",
   "execution_count": 7,
   "metadata": {},
   "outputs": [
    {
     "data": {
      "text/plain": [
       "{'name': 'Bob', 'job': 'dev', 'age': 40}"
      ]
     },
     "execution_count": 7,
     "metadata": {},
     "output_type": "execute_result"
    }
   ],
   "source": [
    "# 尽管可以使用大括号这种常量形式，但是还是学习一下不同的创建字典的方法\n",
    "# 例如下面开始一个空的字典，然后每次以一个 键 来填写它\n",
    "# 与列表中的禁止边界外的赋值不同，对一个新的字典的 键 赋值会创造这个 键\n",
    "D = {}\n",
    "D['name'] = 'Bob' # Create keys by assignment 通过分配创建字典\n",
    "D['job'] = 'dev' \n",
    "D['age'] = 40\n",
    "D\n",
    "# 通过 键 索引一个字典 往往是python中编写搜索的最快方法！"
   ]
  },
  {
   "cell_type": "code",
   "execution_count": 8,
   "metadata": {},
   "outputs": [
    {
     "name": "stdout",
     "output_type": "stream",
     "text": [
      "Bob\n"
     ]
    }
   ],
   "source": [
    "print(D['name'])"
   ]
  },
  {
   "cell_type": "code",
   "execution_count": 10,
   "metadata": {},
   "outputs": [
    {
     "data": {
      "text/plain": [
       "{'name': {'first': 'Bob', 'last': 'Smith'}, 'job': ['dev', 'mgr'], 'age': 40.5}"
      ]
     },
     "execution_count": 10,
     "metadata": {},
     "output_type": "execute_result"
    }
   ],
   "source": [
    "# 重访嵌套\n",
    "# 我们需要记录 名字(first name) 和 姓氏(last name)，并且有多个 工作(job)头衔\n",
    "# 一次将所有的内容编写进一个常量\n",
    "rec = {'name' : {'first' : 'Bob','last' : 'Smith'}, 'job' : ['dev','mgr'], 'age' : 40.5}\n",
    "rec"
   ]
  },
  {
   "cell_type": "code",
   "execution_count": 11,
   "metadata": {},
   "outputs": [
    {
     "data": {
      "text/plain": [
       "{'first': 'Bob', 'last': 'Smith'}"
      ]
     },
     "execution_count": 11,
     "metadata": {},
     "output_type": "execute_result"
    }
   ],
   "source": [
    "# 字典索引是靠 键 来索引的\n",
    "rec['name'] # 'name' is a nested dictionary  # 这是嵌套式名称字典"
   ]
  },
  {
   "cell_type": "code",
   "execution_count": 12,
   "metadata": {},
   "outputs": [
    {
     "data": {
      "text/plain": [
       "'Smith'"
      ]
     },
     "execution_count": 12,
     "metadata": {},
     "output_type": "execute_result"
    }
   ],
   "source": [
    "rec['name']['last'] # Index the nested dictionary # 嵌套字典的索引"
   ]
  },
  {
   "cell_type": "code",
   "execution_count": 13,
   "metadata": {},
   "outputs": [
    {
     "data": {
      "text/plain": [
       "['dev', 'mgr']"
      ]
     },
     "execution_count": 13,
     "metadata": {},
     "output_type": "execute_result"
    }
   ],
   "source": [
    "rec['job'] # 'job' is a nested list # 这是嵌套 工作组 的字典"
   ]
  },
  {
   "cell_type": "code",
   "execution_count": 14,
   "metadata": {},
   "outputs": [
    {
     "data": {
      "text/plain": [
       "'mgr'"
      ]
     },
     "execution_count": 14,
     "metadata": {},
     "output_type": "execute_result"
    }
   ],
   "source": [
    "rec['job'][-1] # Index the nested list # 嵌套列表的索引"
   ]
  },
  {
   "cell_type": "code",
   "execution_count": 15,
   "metadata": {},
   "outputs": [],
   "source": [
    "rec['job'].append('janitor') # Expand Bob's job description in-place>>>rec\n",
    "# 增加 Bob 的工作头衔"
   ]
  },
  {
   "cell_type": "code",
   "execution_count": 21,
   "metadata": {},
   "outputs": [],
   "source": [
    "# 重要的是，在底层语言中当我们不再需要这个对象时，必须小心的去释放掉所有对象空间\n",
    "# 当最后一次引用对象后\n",
    "# 例如将这个变量用其他的值进行赋值\n",
    "rec = 0 # Now the object's space is reclaimed # 物体的空间被回收\n",
    "# 这个对象所占用的内存空间将会自动清理掉"
   ]
  },
  {
   "cell_type": "code",
   "execution_count": 28,
   "metadata": {},
   "outputs": [
    {
     "data": {
      "text/plain": [
       "{'a': 1, 'b': 2, 'c': 3}"
      ]
     },
     "execution_count": 28,
     "metadata": {},
     "output_type": "execute_result"
    }
   ],
   "source": [
    "# 键 的排序： for 循环\n",
    "# 字典被创建后，打印出来的时候是乱序的\n",
    "dd = {'a' : 1, 'b' : 2, 'c' : 3}\n",
    "dd"
   ]
  },
  {
   "cell_type": "code",
   "execution_count": 30,
   "metadata": {},
   "outputs": [
    {
     "data": {
      "text/plain": [
       "['a', 'b', 'c']"
      ]
     },
     "execution_count": 30,
     "metadata": {},
     "output_type": "execute_result"
    }
   ],
   "source": [
    "Ks = list(dd.keys()) # Unordered keys list # 无序的 字典 键 列表\n",
    "Ks"
   ]
  },
  {
   "cell_type": "code",
   "execution_count": 31,
   "metadata": {},
   "outputs": [
    {
     "data": {
      "text/plain": [
       "['a', 'b', 'c']"
      ]
     },
     "execution_count": 31,
     "metadata": {},
     "output_type": "execute_result"
    }
   ],
   "source": [
    "Ks.sort() # 正序\n",
    "Ks"
   ]
  },
  {
   "cell_type": "code",
   "execution_count": 39,
   "metadata": {},
   "outputs": [
    {
     "ename": "SyntaxError",
     "evalue": "unexpected EOF while parsing (<ipython-input-39-5b3f9dfc5c04>, line 7)",
     "output_type": "error",
     "traceback": [
      "\u001b[1;36m  File \u001b[1;32m\"<ipython-input-39-5b3f9dfc5c04>\"\u001b[1;36m, line \u001b[1;32m7\u001b[0m\n\u001b[1;33m    # 貌似需要导入某个模块才不会出下面的错误，先这样吧！！！\u001b[0m\n\u001b[1;37m                                 ^\u001b[0m\n\u001b[1;31mSyntaxError\u001b[0m\u001b[1;31m:\u001b[0m unexpected EOF while parsing\n"
     ]
    }
   ],
   "source": [
    "for key in Ks:\n",
    "    a => 1\n",
    "    b => 2\n",
    "    c => 3\n",
    "# Iterate though sorted keysprint(key,'=>',dd[key]） # <== press Enter twice here\n",
    "#  迭代排序 但是键入 打印 key\n",
    "# 貌似需要导入某个模块才不会出下面的错误，先这样吧！！！"
   ]
  },
  {
   "cell_type": "code",
   "execution_count": 37,
   "metadata": {},
   "outputs": [
    {
     "data": {
      "text/plain": [
       "{'a': 1, 'b': 2, 'c': 3}"
      ]
     },
     "execution_count": 37,
     "metadata": {},
     "output_type": "execute_result"
    }
   ],
   "source": [
    "# python中内置的一种 sorted 函数 可以自动对字典的 键 排序\n",
    "dd"
   ]
  },
  {
   "cell_type": "code",
   "execution_count": 38,
   "metadata": {},
   "outputs": [
    {
     "name": "stdout",
     "output_type": "stream",
     "text": [
      "a => 1\n",
      "b => 2\n",
      "c => 3\n"
     ]
    }
   ],
   "source": [
    "for key in sorted(dd):\n",
    "    print(key,'=>',dd[key])"
   ]
  },
  {
   "cell_type": "code",
   "execution_count": 40,
   "metadata": {},
   "outputs": [
    {
     "name": "stdout",
     "output_type": "stream",
     "text": [
      "S\n",
      "P\n",
      "A\n",
      "M\n"
     ]
    }
   ],
   "source": [
    "# for 循环也可以用在不是序列的对象中，打印每个字符的大写，例如：\n",
    "for c in 'spam':\n",
    "    print(c.upper()) # .upper 方法 将 'spam' 大写"
   ]
  },
  {
   "cell_type": "code",
   "execution_count": 41,
   "metadata": {},
   "outputs": [
    {
     "name": "stdout",
     "output_type": "stream",
     "text": [
      "spamspamspamspam\n",
      "spamspamspam\n",
      "spamspam\n",
      "spam\n"
     ]
    }
   ],
   "source": [
    "# while循环是一种更为常见的排序循环工具，它不仅限于遍历序列，例如：\n",
    "x = 4\n",
    "while x > 0:\n",
    "    print('spam' * x)\n",
    "    x -= 1"
   ]
  },
  {
   "cell_type": "code",
   "execution_count": null,
   "metadata": {},
   "outputs": [],
   "source": []
  }
 ],
 "metadata": {
  "kernelspec": {
   "display_name": "Python 3",
   "language": "python",
   "name": "python3"
  },
  "language_info": {
   "codemirror_mode": {
    "name": "ipython",
    "version": 3
   },
   "file_extension": ".py",
   "mimetype": "text/x-python",
   "name": "python",
   "nbconvert_exporter": "python",
   "pygments_lexer": "ipython3",
   "version": "3.6.5"
  }
 },
 "nbformat": 4,
 "nbformat_minor": 2
}
