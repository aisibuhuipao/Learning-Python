{
 "cells": [
  {
   "cell_type": "code",
   "execution_count": 1,
   "metadata": {},
   "outputs": [
    {
     "name": "stdout",
     "output_type": "stream",
     "text": [
      "Hello World\n"
     ]
    }
   ],
   "source": [
    "print(\"Hello World\")  # 1.print\"Hello World\" 在python3中需要加一对()才可以正常输出 否侧会报错"
   ]
  },
  {
   "cell_type": "code",
   "execution_count": 2,
   "metadata": {},
   "outputs": [
    {
     "name": "stdout",
     "output_type": "stream",
     "text": [
      "100\n",
      "100.0\n",
      "python\n"
     ]
    }
   ],
   "source": [
    "counter = 100 # 1. int 整数 \n",
    "miles = 100.0 # float浮点数也叫小数，只要有小数点，无论小数点后面是否是 0  都叫浮点数\n",
    "a,b = 1,2 # 1 赋值给 a  2 赋值给 b 多个变量赋值 \n",
    "name = 'python' # str 字符串。 字符串是指所有单引号'' 和双引号\"\"内的内容\n",
    "print(counter)\n",
    "print(miles)\n",
    "print(name)"
   ]
  },
  {
   "cell_type": "code",
   "execution_count": 3,
   "metadata": {},
   "outputs": [
    {
     "name": "stdout",
     "output_type": "stream",
     "text": [
      "<class 'str'>\n"
     ]
    }
   ],
   "source": [
    "print(type(name)) # type()函数 是查询 对象 的数据类型的\n"
   ]
  },
  {
   "cell_type": "code",
   "execution_count": 4,
   "metadata": {},
   "outputs": [
    {
     "name": "stdout",
     "output_type": "stream",
     "text": [
      "True\n"
     ]
    }
   ],
   "source": [
    "print(isinstance(name,str)) # isinstance()函数 和type()函数一样，可以查询 对象 的数据类型 但是如果对一个class类中的子类查询 \n",
    "# type()函数就不行了 且 type()函数 是直接返回这个 对象 的类型，而isinstance()函数是需要添加一个 类型 在 变量 的后面，只会返回 布尔值(bool)"
   ]
  },
  {
   "cell_type": "code",
   "execution_count": 7,
   "metadata": {},
   "outputs": [
    {
     "name": "stdout",
     "output_type": "stream",
     "text": [
      "1\n",
      "1.0\n"
     ]
    }
   ],
   "source": [
    "a = 1 # 定义一个 整数(int) 变量\n",
    "b = float(a) # 将变量 a 的值转换成 浮点数(float),并且将 变量 a 的值 赋值给 b\n",
    "print(a)\n",
    "print(b)"
   ]
  },
  {
   "cell_type": "code",
   "execution_count": 8,
   "metadata": {},
   "outputs": [
    {
     "name": "stdout",
     "output_type": "stream",
     "text": [
      "1.0\n",
      "1\n"
     ]
    }
   ],
   "source": [
    "c = 1.0 #  定义一个 浮点数(float)\n",
    "d = int(c) # 将变量 c 的值转换成 整数(int) 并且将 变量 c 的值 赋值给 d\n",
    "print(c)\n",
    "print(d)"
   ]
  },
  {
   "cell_type": "code",
   "execution_count": 17,
   "metadata": {},
   "outputs": [
    {
     "data": {
      "text/plain": [
       "['False',\n",
       " 'None',\n",
       " 'True',\n",
       " 'and',\n",
       " 'as',\n",
       " 'assert',\n",
       " 'break',\n",
       " 'class',\n",
       " 'continue',\n",
       " 'def',\n",
       " 'del',\n",
       " 'elif',\n",
       " 'else',\n",
       " 'except',\n",
       " 'finally',\n",
       " 'for',\n",
       " 'from',\n",
       " 'global',\n",
       " 'if',\n",
       " 'import',\n",
       " 'in',\n",
       " 'is',\n",
       " 'lambda',\n",
       " 'nonlocal',\n",
       " 'not',\n",
       " 'or',\n",
       " 'pass',\n",
       " 'raise',\n",
       " 'return',\n",
       " 'try',\n",
       " 'while',\n",
       " 'with',\n",
       " 'yield']"
      ]
     },
     "execution_count": 17,
     "metadata": {},
     "output_type": "execute_result"
    }
   ],
   "source": [
    "import keyword \n",
    "keyword.kwlist # python关键字是指 内置在python中带有功能的函数，不可以用于作为变量名.\n",
    "# 也可以使用 help(\"keywords\")  来查询内置在python中的关键字"
   ]
  },
  {
   "cell_type": "code",
   "execution_count": 20,
   "metadata": {},
   "outputs": [
    {
     "data": {
      "text/plain": [
       "False"
      ]
     },
     "execution_count": 20,
     "metadata": {},
     "output_type": "execute_result"
    }
   ],
   "source": [
    "keyword.iskeyword(name) # 也可以使用 keyword.iskeyword() 方法来查询是否为关键字"
   ]
  },
  {
   "cell_type": "code",
   "execution_count": 21,
   "metadata": {},
   "outputs": [],
   "source": [
    "# 1.变量名一般都用小写字母，如果有多个字母也可以用 _下划线连接，也可以使用数字，但是数字不能作为开头\n",
    "# 1-1.例如 name 或者 my_name 或者 name1 等等\n",
    "# 2.还有驼峰命名法,就是当变量名或函式名是由一个或多个单词连结在一起第一个单词以小写字母开始\n",
    "#   第二个单词的首字母大写或每一个单词的首字母都采用大写字母，且有大小驼峰命名法\n",
    "# 2-1.例如 myName 属于小驼峰命名法，一般作用于变量名\n",
    "# 2-2.例如 MyName 属于打驼峰命名法，一般作用于 类名，函数名\n",
    "# 3. 也可以使用下划线 _ 开头命名作用于 类 ，表示私有，不可以直接访问，需要通过类 对象和 子类 对象自己能访问到这些变量\n",
    "# 3-1.例如 _name 或者 _Name\n",
    "# 4.全部大写的命名 作用于 全局变量，全局变量一般作用于 模块 内、所有 函数 的外面、在 类 外面，可以在函数里面调用\n",
    "#   使用之前需要使用关键字 global 在外部和内部声明这是 全局变量 \n",
    "# 4-1.例如 NAME 或者 MY_NAME\n",
    "# 5.错误的命名法\n",
    "# 5-1.例如 2age(不能以数字开头), my-name(不能用 - 连接),my name(不能有空格)\n",
    "you_name = \"小明\"\n",
    "my_name = \"小白\"\n",
    "myName = \"小黑\"\n",
    "MyName = \"小红\"\n",
    "My_Name = \"小粉\"\n",
    "my_Name = \"小小\"\n",
    "# 等等等等..........."
   ]
  },
  {
   "cell_type": "code",
   "execution_count": 24,
   "metadata": {},
   "outputs": [
    {
     "name": "stdout",
     "output_type": "stream",
     "text": [
      "<class 'int'>\n"
     ]
    },
    {
     "data": {
      "text/plain": [
       "True"
      ]
     },
     "execution_count": 24,
     "metadata": {},
     "output_type": "execute_result"
    }
   ],
   "source": [
    "a = 100\n",
    "print(type(a)) # type()函数 查询 变量a 的类型，直接输出结果\n",
    "b = 101\n",
    "isinstance(b,int) # isinstance()函数 是查询 变量b 是不是某一种类型，查询时需要在括号内的变量后面跟上类型\n",
    "# 是则返回 True(真) 不是则返回 False(假)"
   ]
  },
  {
   "cell_type": "code",
   "execution_count": null,
   "metadata": {},
   "outputs": [],
   "source": []
  }
 ],
 "metadata": {
  "kernelspec": {
   "display_name": "Python 3",
   "language": "python",
   "name": "python3"
  },
  "language_info": {
   "codemirror_mode": {
    "name": "ipython",
    "version": 3
   },
   "file_extension": ".py",
   "mimetype": "text/x-python",
   "name": "python",
   "nbconvert_exporter": "python",
   "pygments_lexer": "ipython3",
   "version": "3.6.5"
  }
 },
 "nbformat": 4,
 "nbformat_minor": 2
}
