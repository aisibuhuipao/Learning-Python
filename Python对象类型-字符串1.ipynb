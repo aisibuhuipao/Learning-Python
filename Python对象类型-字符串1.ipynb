{
 "cells": [
  {
   "cell_type": "code",
   "execution_count": 3,
   "metadata": {},
   "outputs": [
    {
     "data": {
      "text/plain": [
       "4"
      ]
     },
     "execution_count": 3,
     "metadata": {},
     "output_type": "execute_result"
    }
   ],
   "source": [
    "# len()函数验证 对象 的长度，并且通过索引得到齐各个元素所在的长度位置\n",
    "# python中 对象的长度计算是从 0 开始 计算的 例如：\n",
    "# spam\n",
    "# 0123\n",
    "s = 'spam'\n",
    "len(s) # Length 验证长度"
   ]
  },
  {
   "cell_type": "code",
   "execution_count": 4,
   "metadata": {},
   "outputs": [
    {
     "data": {
      "text/plain": [
       "'s'"
      ]
     },
     "execution_count": 4,
     "metadata": {},
     "output_type": "execute_result"
    }
   ],
   "source": [
    "s[0] # The first item in s, indexing by zero-based position's' 以 0 为基础的 索引搜索 得到返回值 's'"
   ]
  },
  {
   "cell_type": "code",
   "execution_count": 5,
   "metadata": {},
   "outputs": [
    {
     "data": {
      "text/plain": [
       "'p'"
      ]
     },
     "execution_count": 5,
     "metadata": {},
     "output_type": "execute_result"
    }
   ],
   "source": [
    "s[1] # The second item from the left  左边的第二个项目 以 1 索引 得到的返回值 'p'"
   ]
  },
  {
   "cell_type": "code",
   "execution_count": 6,
   "metadata": {},
   "outputs": [
    {
     "data": {
      "text/plain": [
       "'m'"
      ]
     },
     "execution_count": 6,
     "metadata": {},
     "output_type": "execute_result"
    }
   ],
   "source": [
    "s[-1] # The last item from the end in s  右边最后一个位置进行索引 以 -1 索引 得到返回值 'm'"
   ]
  },
  {
   "cell_type": "code",
   "execution_count": 7,
   "metadata": {},
   "outputs": [
    {
     "data": {
      "text/plain": [
       "'a'"
      ]
     },
     "execution_count": 7,
     "metadata": {},
     "output_type": "execute_result"
    }
   ],
   "source": [
    "s[-2] # The second to last item from the end 'a'  倒数第二个位置进行索引 以 -2 索引 得到返回值 'a'"
   ]
  },
  {
   "cell_type": "code",
   "execution_count": 8,
   "metadata": {},
   "outputs": [
    {
     "data": {
      "text/plain": [
       "'m'"
      ]
     },
     "execution_count": 8,
     "metadata": {},
     "output_type": "execute_result"
    }
   ],
   "source": [
    "s[-1]\n",
    "s[len(s)-1]\n",
    "# 两种操作是相同的，第一种更容易编写且不容易发生错误\n",
    "# 但是第二种操作可以在方括号内使用任意表达式"
   ]
  },
  {
   "cell_type": "code",
   "execution_count": 9,
   "metadata": {},
   "outputs": [
    {
     "name": "stdout",
     "output_type": "stream",
     "text": [
      "spam\n"
     ]
    },
    {
     "data": {
      "text/plain": [
       "'pa'"
      ]
     },
     "execution_count": 9,
     "metadata": {},
     "output_type": "execute_result"
    }
   ],
   "source": [
    "# 除了从位置 索引 还可以使用另一种方法 切片(slice) ， 这是一种一步就可以提取整个分片的方法，例如\n",
    "print(s) # A 4-character string   是一个 4 个字符的 字符串 变量\n",
    "s[1:3] # Slice of s from offsets 1 through 2 (not 3) 'pa'  从 位置 1 至 2 的偏移取出元素 'pa'\n",
    "# 一般形式为 X[I:J] 表示 取出 X 中从偏移量位置 I ，直到但不包括偏移量 J 位置的内容"
   ]
  },
  {
   "cell_type": "code",
   "execution_count": 10,
   "metadata": {},
   "outputs": [
    {
     "name": "stdout",
     "output_type": "stream",
     "text": [
      "spam\n",
      "spam\n",
      "pam\n",
      "spa\n",
      "spa\n",
      "spa\n"
     ]
    }
   ],
   "source": [
    "# 在一个切片中，左边界默认为 0， 并且右边界默认为切片序列的长度。\n",
    "# 这引入了一些常用发的变体，例如：\n",
    "print(s) # s itself hasn't changed  打印一次完整的字符串\n",
    "print(s[:]) # All of s as a top-level copy (0:len(s)) 这是取出所有元素\n",
    "print(s[1:]) # Everything past the first (1:len(s))  这是取出 偏移量为 1 (包括位置1的元素)后面 所有的元素\n",
    "print(s[0:3]) # Everything but the last  这是取出 右边偏移量 3 为止在内 不包括 3 位置的元素\n",
    "print(s[:3]) # Same as s[0:3]  和 s[0:3] 的切片方式一样\n",
    "print(s[:-1]) # Everything but the last again,but simpler (0:-1) 这是取出从偏移量 0 开始至最末尾 但是不包括末尾元素的位置元素\n",
    "# 虽然没有必要切片拷贝一个字符串，但是这种操作形式在列表这样的序列中很有用！"
   ]
  },
  {
   "cell_type": "code",
   "execution_count": 32,
   "metadata": {},
   "outputs": [
    {
     "name": "stdout",
     "output_type": "stream",
     "text": [
      "zpam\n",
      "zpamxyz\n",
      "zpam\n",
      "zpamzpamzpamzpamzpamzpamzpamzpam\n"
     ]
    }
   ],
   "source": [
    "print(s) # 打印一遍 s 变量\n",
    "print(s + 'xyz') # Concatenation 将 s 变量中的值和 'xyz' 相加，组成新的字符串,不保存在内存中\n",
    "print(s) # 再打印一遍 s 变量\n",
    "print(s * 8) #Repetition  将 s 变量的值重复 8 次"
   ]
  },
  {
   "cell_type": "code",
   "execution_count": 37,
   "metadata": {},
   "outputs": [
    {
     "name": "stdout",
     "output_type": "stream",
     "text": [
      "spam\n"
     ]
    }
   ],
   "source": [
    "print(s) # 打印一遍 s 变量\n",
    "# s[0] = 'z' Immutable objects cannot be changed...error text omitted... 字符串被创建之后不可以被更改 "
   ]
  },
  {
   "cell_type": "code",
   "execution_count": 38,
   "metadata": {},
   "outputs": [
    {
     "data": {
      "text/plain": [
       "'zpam'"
      ]
     },
     "execution_count": 38,
     "metadata": {},
     "output_type": "execute_result"
    }
   ],
   "source": [
    "s = 'z' + s[1:]\n",
    "s # But we can run expressions to make new objects 但是可以运用表达式来创建新的对象"
   ]
  },
  {
   "cell_type": "code",
   "execution_count": 43,
   "metadata": {},
   "outputs": [
    {
     "data": {
      "text/plain": [
       "1"
      ]
     },
     "execution_count": 43,
     "metadata": {},
     "output_type": "execute_result"
    }
   ],
   "source": [
    "s = 's' + s[1:]\n",
    "s.find('pa') # Find the offset of a substring \n",
    "# find 这个方法是查找子字符串的偏移坐标"
   ]
  },
  {
   "cell_type": "code",
   "execution_count": 45,
   "metadata": {},
   "outputs": [
    {
     "data": {
      "text/plain": [
       "'sXYZm'"
      ]
     },
     "execution_count": 45,
     "metadata": {},
     "output_type": "execute_result"
    }
   ],
   "source": [
    "s.replace('pa', 'XYZ') # Replace occurrences of a substring with another \n",
    "# repalce 这个方法将子字符串 'pa' 替换成 'XYZ', 但是不改变 原始的字符串 "
   ]
  },
  {
   "cell_type": "code",
   "execution_count": 49,
   "metadata": {},
   "outputs": [
    {
     "data": {
      "text/plain": [
       "['aaa', 'bbb', 'ccccc', 'dd']"
      ]
     },
     "execution_count": 49,
     "metadata": {},
     "output_type": "execute_result"
    }
   ],
   "source": [
    "line = 'aaa,bbb,ccccc,dd'\n",
    "line.split(',') # Split on a delimiter into a list of substrings\n",
    "# split 这个方法是将字符串与子字符串转换成一个列表"
   ]
  },
  {
   "cell_type": "code",
   "execution_count": 55,
   "metadata": {},
   "outputs": [
    {
     "name": "stdout",
     "output_type": "stream",
     "text": [
      "SPAM\n"
     ]
    },
    {
     "data": {
      "text/plain": [
       "True"
      ]
     },
     "execution_count": 55,
     "metadata": {},
     "output_type": "execute_result"
    }
   ],
   "source": [
    "s = 'spam'\n",
    "print(s.upper()) # Upper- and lowercase conversions \n",
    "# upper 这个方法是将字符串或子字符串转换成大写\n",
    "s.isalpha() # Content tests: isalpha, isdigit, etc. 检查字符串是否是字母"
   ]
  },
  {
   "cell_type": "code",
   "execution_count": 58,
   "metadata": {},
   "outputs": [
    {
     "data": {
      "text/plain": [
       "'aaa,bbb,ccccc,dd'"
      ]
     },
     "execution_count": 58,
     "metadata": {},
     "output_type": "execute_result"
    }
   ],
   "source": [
    "line = 'aaa,bbb,ccccc,dd\\n'\n",
    "line = line.rstrip() # Remove whitespace characters on the right side \n",
    "# rstrip 这个方法是移除字符串中右侧的制表符\n",
    "line"
   ]
  },
  {
   "cell_type": "code",
   "execution_count": 60,
   "metadata": {},
   "outputs": [
    {
     "data": {
      "text/plain": [
       "'spam, eggs, and SPAM!'"
      ]
     },
     "execution_count": 60,
     "metadata": {},
     "output_type": "execute_result"
    }
   ],
   "source": [
    "'%s, eggs, and %s ' % ('spam', 'SPAM!')\n",
    "'{0}, eggs, and {1}'.format('spam', 'SPAM!')\n",
    "# 这两种表达式的结果是一样的"
   ]
  },
  {
   "cell_type": "code",
   "execution_count": null,
   "metadata": {},
   "outputs": [],
   "source": [
    "len() # 验证一个变量的长度\n",
    "X[I:J] # 切片操作\n",
    ".find() # 查找字符串和子字符串的偏移坐标\n",
    ".replace() # 将一个字字符串替换成新的新加入的字符串，但是不改变原始字符串\n",
    ".split() # 将字符串与子字符串转换成一个列表(list)\n",
    ".upper # 将字符串转换成大写，但是不改变原始字符串\n",
    ".isalpha() # 检查字符串是否是字母\n",
    ".rstrip() # 将字符串中的空白字符或者制表符移除"
   ]
  }
 ],
 "metadata": {
  "kernelspec": {
   "display_name": "Python 3",
   "language": "python",
   "name": "python3"
  },
  "language_info": {
   "codemirror_mode": {
    "name": "ipython",
    "version": 3
   },
   "file_extension": ".py",
   "mimetype": "text/x-python",
   "name": "python",
   "nbconvert_exporter": "python",
   "pygments_lexer": "ipython3",
   "version": "3.6.5"
  }
 },
 "nbformat": 4,
 "nbformat_minor": 2
}
